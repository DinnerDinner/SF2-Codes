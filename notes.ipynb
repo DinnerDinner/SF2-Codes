{
 "cells": [
  {
   "cell_type": "code",
   "execution_count": 6,
   "metadata": {},
   "outputs": [
    {
     "name": "stdout",
     "output_type": "stream",
     "text": [
      "lst: [[1, 2], [], [3, 4], [], [5]]\n",
      "result: [[1, 2], [3, 4], [5]]\n",
      "[[1, 2], [3, 4], [5]]\n",
      "[[1, 2], [3, 4], [5]]\n",
      "[]\n"
     ]
    }
   ],
   "source": [
    "# given a list of lists, remove the empty list from it\n",
    "# by keeping the original list as is\n",
    "lst = [[1, 2], [], [3, 4], [], [5]]\n",
    "result = []\n",
    "\n",
    "for inner_list in lst:\n",
    "    if inner_list:\n",
    "        result.append(inner_list)\n",
    "print(f'lst: {lst}')\n",
    "print(f'result: {result}')\n",
    "\n",
    "# write the same thing using a list comprehension\n",
    "result2 = [inner_list for inner_list in lst if inner_list]\n",
    "print(result2)\n",
    "\n",
    "# remove the empty lists by modifying the original list of lists\n",
    "for inner_list in lst:\n",
    "    if not inner_list:\n",
    "        lst.remove(inner_list)\n",
    "print(lst)\n",
    "\n",
    "result3 = [lst.remove(inner_list) for inner_list in lst if not inner_list]\n",
    "print(result3)\n"
   ]
  },
  {
   "cell_type": "markdown",
   "metadata": {},
   "source": [
    "1. use a list comprehension to return all squares of values in a list that are > 3 and < 11\n",
    "2. given 2 lists lst and num, check if every value of num appears in lst. if so, add 5 to it and return"
   ]
  },
  {
   "cell_type": "code",
   "execution_count": 9,
   "metadata": {},
   "outputs": [
    {
     "name": "stdout",
     "output_type": "stream",
     "text": [
      "[16, 25, 36, 49, 64, 81, 100]\n"
     ]
    },
    {
     "data": {
      "text/plain": [
       "[35, 39, 17, 38]"
      ]
     },
     "execution_count": 9,
     "metadata": {},
     "output_type": "execute_result"
    }
   ],
   "source": [
    "lst = [1, 2, 3, 4, 5, 6, 7, 8, 9, 10, 11, 25, 324, 2]\n",
    "new_lst = [num ** 2 for num in lst if 3 < num < 11]\n",
    "print(new_lst)\n",
    "\n",
    "lst = [30, 34, 36, 47, 52, 77, 33, 12]\n",
    "num = [30, 46, 34, 88, 99, 12, 33]\n",
    "new_lst = [x + 5 for x in num if x in lst]\n",
    "new_lst"
   ]
  },
  {
   "cell_type": "code",
   "execution_count": 13,
   "metadata": {},
   "outputs": [
    {
     "name": "stdout",
     "output_type": "stream",
     "text": [
      "[[4, 8], [4, 2, 23], [1, 7], [3, 33, 12]]\n"
     ]
    },
    {
     "data": {
      "text/plain": [
       "[[4, 8], [4, 2, 23], [1, 7], [3, 33, 12]]"
      ]
     },
     "execution_count": 13,
     "metadata": {},
     "output_type": "execute_result"
    }
   ],
   "source": [
    "# given a list of lists, where the inner lists elements are strings\n",
    "# change the values from strings to integers\n",
    "# print the list\n",
    "# explicit for loops\n",
    "lst_2d = [['4', '8'], ['4', '2', '23'], ['1', '7'], ['3', '33', '12']]\n",
    "result = []\n",
    "\n",
    "for row in lst_2d:\n",
    "    for i in range(len(row)):\n",
    "        row[i] = int(row[i])\n",
    "\n",
    "print(lst_2d)\n",
    "\n",
    "new_lst = [[int(i) for i in row] for row in lst_2d]\n",
    "new_lst"
   ]
  },
  {
   "cell_type": "markdown",
   "metadata": {},
   "source": [
    "# Sort a list of lists\n",
    "- given a list of lists (assume integers), sort each sublist in decreasing order\n",
    "- cannot use any built-in functions (no .sort)\n",
    "- must define a sort function that allows to sort both in increasing or decreasing\n",
    "- what is the time and space complexity?"
   ]
  },
  {
   "cell_type": "markdown",
   "metadata": {},
   "source": [
    "# List Example: transpose a matrix\n",
    "- given an n by m matrix, write code to transpose it\n",
    "- cannot use any built-in functions\n",
    "-  [[1, 2]\n",
    "    [3, 4]\n",
    "    [5, 6]]\n",
    "-  [[1, 3, 5],\n",
    "    [2, 4, 5]]"
   ]
  },
  {
   "cell_type": "code",
   "execution_count": 10,
   "metadata": {},
   "outputs": [
    {
     "name": "stdout",
     "output_type": "stream",
     "text": [
      "1\n",
      "1 1\n",
      "1 2 1\n",
      "1 3 3 1\n",
      "1 4 6 4 1\n"
     ]
    }
   ],
   "source": [
    "from math import factorial\n",
    "def binom(n,k):\n",
    "    return (factorial(n))/(factorial(n-k)*factorial(k))\n",
    "\n",
    "# print(binom(3,3))\n",
    "\n",
    "def pascal(n):\n",
    "    lst = []\n",
    "    for i in range(n):\n",
    "        row = []\n",
    "        for j in range(i+1):\n",
    "            row.append(factorial(i)//(factorial(i-j)*factorial(j)) )jnh \n",
    "        lst.append(row)\n",
    "    \n",
    "    for row in lst:\n",
    "        print(\" \".join(map(str, row)))\n",
    "\n",
    "\n",
    "pascal(5)\n",
    "\n"
   ]
  },
  {
   "cell_type": "code",
   "execution_count": 5,
   "metadata": {},
   "outputs": [
    {
     "name": "stdout",
     "output_type": "stream",
     "text": [
      "0\n",
      "1\n",
      "2\n",
      "3\n",
      "4\n"
     ]
    }
   ],
   "source": []
  },
  {
   "cell_type": "code",
   "execution_count": 34,
   "metadata": {},
   "outputs": [
    {
     "name": "stdout",
     "output_type": "stream",
     "text": [
      "[1, 2, 3]\n",
      "2\n",
      "[7, 6, 8]\n",
      "2\n",
      "[3, 6, 1, 3]\n",
      "2\n",
      "[3, 6, 1, 3]\n",
      "2\n",
      "[7, 6, 8]\n",
      "2\n",
      "[7, 6, 8]\n",
      "2\n",
      "[1, 2, 3]\n",
      "2\n",
      "[3, 6, 1, 3]\n",
      "2\n",
      "[3, 6, 1, 3]\n",
      "2\n",
      "[1, 2, 3]\n",
      "2\n",
      "[3, 6, 1, 3]\n",
      "2\n",
      "[1, 2, 3]\n",
      "2\n",
      "[7, 6, 8]\n",
      "2\n",
      "[7, 6, 8]\n",
      "2\n",
      "[1, 2, 3]\n",
      "2\n"
     ]
    }
   ],
   "source": [
    "# def read_box(n):\n",
    "#     lst_boxes= []\n",
    "#     for i in range(n):\n",
    "#         box = input().split()\n",
    "#         box.pop(0)\n",
    "#         for i in range(len(box)):\n",
    "#             box[i] = int(box[i])\n",
    "#         lst_boxes.append(box)\n",
    "#         return lst_boxes\n",
    "\n",
    "# def allBoxesOK(lst_boxes):\n",
    "#     for box in lst_boxes:\n",
    "\n",
    "\n",
    "\n",
    "# n = int(input())\n",
    "# print(read_box(n))\n",
    "\n",
    "\n",
    "\n",
    "\n",
    "lst = [[1,2,3], [7,6,8], [3,6,1,3]]\n",
    "def permute(lst):\n",
    "  \n",
    "    result = []\n",
    "    for i in range(len(lst)):\n",
    "        current = lst[i]\n",
    "        print(current)\n",
    "        print(2)\n",
    "        remaining = lst[:i] + lst[i+1:]\n",
    "        # print(remaining)\n",
    "        for perm in permute(remaining):\n",
    "            a = [current] + perm\n",
    "            flattened_matrix = [element for row in a for element in row]\n",
    "            result.append(flattened_matrix)\n",
    "    \n",
    "    return result\n",
    "\n",
    "\n",
    "all_permutations = permute(lst)\n",
    "\n",
    "for perm in all_permutations:\n",
    "    print(perm)\n"
   ]
  }
 ],
 "metadata": {
  "kernelspec": {
   "display_name": "Python 3",
   "language": "python",
   "name": "python3"
  },
  "language_info": {
   "codemirror_mode": {
    "name": "ipython",
    "version": 3
   },
   "file_extension": ".py",
   "mimetype": "text/x-python",
   "name": "python",
   "nbconvert_exporter": "python",
   "pygments_lexer": "ipython3",
   "version": "3.10.11"
  }
 },
 "nbformat": 4,
 "nbformat_minor": 2
}
